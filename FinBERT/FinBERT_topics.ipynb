{
 "cells": [
  {
   "cell_type": "markdown",
   "id": "a7584171",
   "metadata": {},
   "source": [
    "### Topic Models:\n",
    "\n",
    "Topic Modeling is an unsupervised approach to analyze the distribution of words across a set of documents in a corpus and to use the word distribution, and the co-occurrence of words across documents, to identify patterns (clusters) of words. These clusters are typically referred to as topics.  Each topic is defined over the distribution of the keywords (tokens) in the lexicon, e.g., a topic labeled “financial fraud” may include keywords such as “financial wrongdoing”, “theft”, “financial mismanagement”, “misleading lending practices”, etc. A weight is typically associated with each keyword in the topic. \n",
    "\n",
    "After the topics are identified, each document in the corpus is labeled as a mix of topics, e.g., document X may be a mix of two topics: “financial fraud” and “private equity investment”. A weight for the topic mix for each topic in the document may also be available. Topic modeling is unsupervised, similar to say clustering, and there is usually no labeled training data. The (unsupervised) training can make use of several parameters including the maximum count of topics. The user has to examine the keywords and manually label the topic.\n",
    "\n",
    "#### Software:\n",
    "Latent Topic Modeling based on the Dirichlet Allocation (LDA_bleiref, LDAexample) has been very successful and there have been many variants including some supervised approaches and extensions to accommodate topics evolving over time.  The Gensim package is widely used for topic modeling.\n",
    "\n",
    "BERT is a transformer based approach for a Large Language Model (LLM). FinBERT has been trained on financial documents. \n",
    "FinBERT based topic modeling extends prior approaches, e.g., LDA topic modeling, to use the embeddings produced by FinBERT to construct topics. The following model has been pre-trained on a general corpus and then fine tuned on financial data. \n",
    "It provides a topic model that includes 20 labeled topics.\n",
    "https://huggingface.co/nickmuchi/finbert-tone-finetuned-finance-topic-classification\n"
   ]
  },
  {
   "cell_type": "markdown",
   "id": "68d37184",
   "metadata": {},
   "source": [
    "#### Data Collection\n",
    "Consider the following corpus of quarterly earnings reports (transcripts) from 25 companies in the S&P 500 index; the dataset covers the period 2017-2021.\n",
    "https://drive.google.com/drive/folders/1e_FpIjoKTHNNUHl-HBCKHnhMGUVODc2U?usp=sharing\n",
    "Note: For each company / quarter there are multiple entries ( multiple speakers). "
   ]
  },
  {
   "cell_type": "markdown",
   "id": "031e8992",
   "metadata": {},
   "source": [
    "#### Exercise -  Please complete this\n",
    "Read the transcripts into a Pandas dataframe, with an entry for each statement. Use the financial topic tuned finbert model to compute the topic(s) for each statement in each transcript. Save the output in a csv file."
   ]
  },
  {
   "cell_type": "code",
   "execution_count": null,
   "id": "fd3a20da",
   "metadata": {},
   "outputs": [],
   "source": [
    "import torch\n",
    "from transformers import AutoTokenizer, AutoModelForSequenceClassification\n",
    "import pandas as pd\n",
    "import os\n",
    "import warnings\n",
    "warnings.filterwarnings(\"ignore\")\n",
    "\n",
    "\n",
    "tokenizer = AutoTokenizer.from_pretrained(\"nickmuchi/finbert-tone-finetuned-finance-topic-classification\", token='')\n",
    "model = AutoModelForSequenceClassification.from_pretrained(\"nickmuchi/finbert-tone-finetuned-finance-topic-classification\", token='')\n",
    "topics = {\n",
    "   0: \"Analyst Update\",\n",
    "   1: \"Fed | Central Banks\",\n",
    "   2: \"Company | Product News\",\n",
    "   3: \"Treasuries | Corporate Debt\",\n",
    "   4: \"Dividend\",\n",
    "   5: \"Earnings\",\n",
    "   6: \"Energy | Oil\",\n",
    "   7: \"Financials\",\n",
    "   8: \"Currencies\",\n",
    "   9: \"General News | Opinion\",\n",
    "   10: \"Gold | Metals | Materials\",\n",
    "   11: \"IPO\",\n",
    "   12: \"Legal | Regulation\",\n",
    "   13: \"M&A | Investments\",\n",
    "   14: \"Macro\",\n",
    "   15: \"Markets\",\n",
    "   16: \"Politics\",\n",
    "   17: \"Personnel Change\",\n",
    "   18: \"Stock Commentary\",\n",
    "   19: \"Stock Movement\",\n",
    "}\n"
   ]
  }
 ],
 "metadata": {
  "kernelspec": {
   "display_name": "Python 3 (ipykernel)",
   "language": "python",
   "name": "python3"
  },
  "language_info": {
   "codemirror_mode": {
    "name": "ipython",
    "version": 3
   },
   "file_extension": ".py",
   "mimetype": "text/x-python",
   "name": "python",
   "nbconvert_exporter": "python",
   "pygments_lexer": "ipython3",
   "version": "3.9.13"
  }
 },
 "nbformat": 4,
 "nbformat_minor": 5
}
